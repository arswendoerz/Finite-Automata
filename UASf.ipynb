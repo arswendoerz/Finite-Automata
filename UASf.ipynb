{
 "cells": [
  {
   "cell_type": "code",
   "execution_count": 2,
   "metadata": {},
   "outputs": [
    {
     "name": "stdout",
     "output_type": "stream",
     "text": [
      "String 'aab' diterima: True\n",
      "String 'aabb' diterima: False\n",
      "String 'ab' diterima: True\n",
      "String 'baab' diterima: True\n",
      "String 'bbaa' diterima: False\n"
     ]
    }
   ],
   "source": [
    "class FiniteAutomata:\n",
    "    def __init__(self):\n",
    "        # Mendefinisikan himpunan state yang dimiliki oleh automata\n",
    "        self.state = {'q0', 'q1', 'q2'}\n",
    "        \n",
    "        # Mendefinisikan alfabet yang diizinkan\n",
    "        self.alfabet = {'a', 'b'}\n",
    "        \n",
    "        # Menentukan state awal\n",
    "        self.state_awal = 'q0'\n",
    "        \n",
    "        # Menentukan state akhir yang dianggap menerima\n",
    "        self.state_akhir = {'q2'}\n",
    "        \n",
    "        # Mendefinisikan fungsi transisi sebagai dictionary\n",
    "        self.transisi = {\n",
    "            ('q0', 'a'): 'q1',\n",
    "            ('q0', 'b'): 'q0',\n",
    "            ('q1', 'a'): 'q1',\n",
    "            ('q1', 'b'): 'q2',\n",
    "            ('q2', 'a'): 'q1',\n",
    "            ('q2', 'b'): 'q0'\n",
    "        }\n",
    "        \n",
    "        # Menyimpan state saat ini, dimulai dari state awal\n",
    "        self.state_saat_ini = self.state_awal\n",
    "\n",
    "    def atur_ulang(self):\n",
    "        # Mengatur ulang state saat ini ke state awal\n",
    "        self.state_saat_ini = self.state_awal\n",
    "\n",
    "    def proses_simbol(self, simbol):\n",
    "        # Memproses simbol input dan menentukan transisi ke state berikutnya\n",
    "        if (self.state_saat_ini, simbol) in self.transisi:\n",
    "            self.state_saat_ini = self.transisi[(self.state_saat_ini, simbol)]\n",
    "        else:\n",
    "            self.state_saat_ini = None  # Transisi tidak valid\n",
    "\n",
    "    def is_menerima(self):\n",
    "        # Memeriksa apakah state saat ini adalah state akhir yang menerima\n",
    "        return self.state_saat_ini in self.state_akhir\n",
    "\n",
    "    def proses_string(self, input_string):\n",
    "        # Mengatur ulang state sebelum memproses string\n",
    "        self.atur_ulang()\n",
    "        \n",
    "        # Memproses setiap simbol dalam string input\n",
    "        for simbol in input_string:\n",
    "            if simbol not in self.alfabet:\n",
    "                return False  # Simbol tidak dalam alfabet\n",
    "            self.proses_simbol(simbol)\n",
    "            if self.state_saat_ini is None:\n",
    "                return False  # Mencapai state tidak valid\n",
    "        \n",
    "        # Mengembalikan hasil apakah string diterima atau tidak\n",
    "        return self.is_menerima()\n",
    "\n",
    "\n",
    "# Contoh penggunaan\n",
    "# Membuat instance dari FiniteAutomata\n",
    "automata = FiniteAutomata()\n",
    "\n",
    "# Mendefinisikan beberapa string untuk diuji\n",
    "uji_string = [\"aab\", \"aabb\", \"ab\", \"baab\", \"bbaa\"]\n",
    "\n",
    "# Memproses setiap string dan menyimpan hasilnya dalam dictionary\n",
    "hasil = {string: automata.proses_string(string) for string in uji_string}\n",
    "\n",
    "# Mencetak hasil penerimaan untuk setiap string\n",
    "for string, diterima in hasil.items():\n",
    "    print(f\"String '{string}' diterima: {diterima}\")\n"
   ]
  }
 ],
 "metadata": {
  "kernelspec": {
   "display_name": "Python 3",
   "language": "python",
   "name": "python3"
  },
  "language_info": {
   "codemirror_mode": {
    "name": "ipython",
    "version": 3
   },
   "file_extension": ".py",
   "mimetype": "text/x-python",
   "name": "python",
   "nbconvert_exporter": "python",
   "pygments_lexer": "ipython3",
   "version": "3.11.1"
  }
 },
 "nbformat": 4,
 "nbformat_minor": 2
}
